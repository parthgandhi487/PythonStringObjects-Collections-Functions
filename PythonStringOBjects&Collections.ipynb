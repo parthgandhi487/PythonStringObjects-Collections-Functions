{
 "cells": [
  {
   "cell_type": "markdown",
   "metadata": {},
   "source": [
    " \n",
    "## Write a Python Program to implement your own myreduce() function which works exactly like Python's built-in function reduce() \n",
    " \n"
   ]
  },
  {
   "cell_type": "code",
   "execution_count": 1,
   "metadata": {},
   "outputs": [
    {
     "name": "stdout",
     "output_type": "stream",
     "text": [
      "Sum on list [1,2,3] using custom reduce function 6\n"
     ]
    }
   ],
   "source": [
    "def myreduce(anyfunc, sequence):\n",
    "    result=sequence[0]\n",
    "    for item in sequence[1:]:\n",
    "     result=anyfunc(result, item)\n",
    "    return result\n",
    "\n",
    "def sum(x,y): return x + y\n",
    "\n",
    "\n",
    "def ispositive(x):\n",
    " if (x <= 0): \n",
    "  return False \n",
    " else: \n",
    "  return True\n",
    "\n",
    "print (\"Sum on list [1,2,3] using custom reduce function \" + str(myreduce(sum, [1,2,3])))"
   ]
  },
  {
   "cell_type": "markdown",
   "metadata": {},
   "source": [
    "## Write a Python program to implement your own myfilter() function which works exactly like Python's built-in function filter() "
   ]
  },
  {
   "cell_type": "code",
   "execution_count": 2,
   "metadata": {},
   "outputs": [
    {
     "name": "stdout",
     "output_type": "stream",
     "text": [
      "Filter only positive Integers on list [0,1,-2,3,4,5] using custom filter function[1, 3, 4, 5]\n"
     ]
    }
   ],
   "source": [
    "def myfilter(anyfunc, sequence):\n",
    "    result=[]\n",
    "    for item in sequence:\n",
    "        if anyfunc(item):\n",
    "            result.append(item)\n",
    "    return result\n",
    "\n",
    "def ispositive(x):\n",
    " if (x <= 0): \n",
    "  return False \n",
    " else: \n",
    "  return True\n",
    "\n",
    "print (\"Filter only positive Integers on list [0,1,-2,3,4,5] using custom filter function\"  + str(myfilter(ispositive, [0,1,-2,3,4,5])))"
   ]
  },
  {
   "cell_type": "markdown",
   "metadata": {},
   "source": [
    "## Implement List comprehensions to produce the following lists. \n",
    " \n",
    "Write List comprehensions to produce the following Lists \n"
   ]
  },
  {
   "cell_type": "code",
   "execution_count": 3,
   "metadata": {},
   "outputs": [
    {
     "name": "stdout",
     "output_type": "stream",
     "text": [
      "ACADGILD => ['A', 'C', 'A', 'D', 'G', 'I', 'L', 'D']\n"
     ]
    }
   ],
   "source": [
    "word = \"ACADGILD\"\n",
    "a_list = [ a for a in word ]\n",
    "print (\"ACADGILD => \" + str(a_list))"
   ]
  },
  {
   "cell_type": "code",
   "execution_count": 4,
   "metadata": {},
   "outputs": [
    {
     "name": "stdout",
     "output_type": "stream",
     "text": [
      "['x','y','z'] => ['x', 'xx', 'xxx', 'xxxx', 'y', 'yy', 'yyy', 'yyyy', 'z', 'zz', 'zzz', 'zzzz']\n"
     ]
    }
   ],
   "source": [
    "input_list = ['x','y','z']\n",
    "result = [ item*num for item in input_list for num in range(1,5)  ]\n",
    "print(\"['x','y','z'] => \" +   str(result))"
   ]
  },
  {
   "cell_type": "code",
   "execution_count": 5,
   "metadata": {},
   "outputs": [
    {
     "name": "stdout",
     "output_type": "stream",
     "text": [
      "['x','y','z'] => ['x', 'y', 'z', 'xx', 'yy', 'zz', 'xxx', 'yyy', 'zzz', 'xxxx', 'yyyy', 'zzzz']\n"
     ]
    }
   ],
   "source": [
    "input_list = ['x','y','z']\n",
    "result = [ item*num for num in range(1,5) for item in input_list  ]\n",
    "print(\"['x','y','z'] => \" +   str(result))"
   ]
  },
  {
   "cell_type": "code",
   "execution_count": 6,
   "metadata": {},
   "outputs": [
    {
     "name": "stdout",
     "output_type": "stream",
     "text": [
      "['x','y','z'] => [[2], [3], [4], [3], [4], [5], [4], [5], [6]]\n"
     ]
    }
   ],
   "source": [
    "input_list = [2,3,4]\n",
    "result = [ [item+num] for item in input_list  for num in range(0,3)  ]\n",
    "print(\"['x','y','z'] => \" +   str(result))"
   ]
  },
  {
   "cell_type": "code",
   "execution_count": 7,
   "metadata": {},
   "outputs": [
    {
     "name": "stdout",
     "output_type": "stream",
     "text": [
      "['x','y','z'] => [[2, 3, 4, 5], [3, 4, 5, 6], [4, 5, 6, 7], [5, 6, 7, 8]]\n"
     ]
    }
   ],
   "source": [
    "input_list = [2,3,4,5]\n",
    "result = [ [item+num for item in input_list]  for num in range(0,4)]\n",
    "print(\"['x','y','z'] => \" +   str(result))"
   ]
  },
  {
   "cell_type": "markdown",
   "metadata": {},
   "source": [
    "## Implement a function longestWord() that takes a list of words and returns the longest one. "
   ]
  },
  {
   "cell_type": "code",
   "execution_count": 8,
   "metadata": {},
   "outputs": [
    {
     "name": "stdout",
     "output_type": "stream",
     "text": [
      "Collections\n"
     ]
    }
   ],
   "source": [
    "def longestWord(word_list):\n",
    "    word_len=[]\n",
    "    for n in word_list:\n",
    "        word_len.append((len(n),n))\n",
    "    word_len.sort()\n",
    "    return word_len[-1][1] \n",
    "\n",
    "print(longestWord([\"Python\", \"Collections\", \"Excercises\"]))\n",
    "        "
   ]
  },
  {
   "cell_type": "markdown",
   "metadata": {},
   "source": [
    "# Task 2 :\n",
    "    ## Write a Python Program(with class concepts) to find the area of the triangle using the below formula. \n",
    " \n",
    "area = (s*(s-a)*(s-b)*(s-c)) ** 0.5 \n",
    " \n",
    "Function to take the length of the sides of triangle from user should be defined in the parent class and function to calculate the area should be defined in subclass. \n"
   ]
  },
  {
   "cell_type": "code",
   "execution_count": 9,
   "metadata": {},
   "outputs": [],
   "source": [
    "class Polygon:\n",
    "\n",
    "    def __init__(self, n):\n",
    "        self.number_of_sides = n\n",
    "\n",
    "    def print_num_sides(self):\n",
    "        print('There are ' + str(self.number_of_sides) + ' sides.')\n",
    "\n",
    "\n",
    "class Triangle(Polygon):\n",
    "\n",
    "    def __init__(self, lengths_of_sides):\n",
    "        Polygon.__init__(self, 3)\n",
    "        self.lengths_of_sides = lengths_of_sides  # list of three numbers\n",
    "\n",
    "    def get_area(self):\n",
    "        '''return the area of the triangle using the semi-perimeter method'''\n",
    "        a, b, c = self.lengths_of_sides\n",
    "\n",
    "        # calculate the semi-perimeter\n",
    "        s = (a + b + c) / 2\n",
    "        return (s*(s-a)*(s-b)*(s-c)) ** 0.5"
   ]
  },
  {
   "cell_type": "code",
   "execution_count": 10,
   "metadata": {},
   "outputs": [
    {
     "name": "stdout",
     "output_type": "stream",
     "text": [
      "6.0\n",
      "There are 3 sides.\n"
     ]
    }
   ],
   "source": [
    "tri = Triangle([3, 4, 5])\n",
    "print(tri.get_area())\n",
    "tri.print_num_sides()"
   ]
  },
  {
   "cell_type": "markdown",
   "metadata": {},
   "source": [
    "## Write a function filter_long_words() that takes a list of words and an integer n and returns the list of words that are longer than n. "
   ]
  },
  {
   "cell_type": "code",
   "execution_count": 14,
   "metadata": {},
   "outputs": [
    {
     "name": "stdout",
     "output_type": "stream",
     "text": [
      "['Apple', 'keeps', 'Doctor']\n"
     ]
    }
   ],
   "source": [
    "def filter_long_words(n, str):  \n",
    "    word_len = []  \n",
    "    txt = str.split(\" \")  \n",
    "    for x in txt:  \n",
    "        if len(x) > n:  \n",
    "            word_len.append(x)  \n",
    "    return word_len   \n",
    "print(filter_long_words(4, \"An Apple a day keeps a Doctor Away\")) "
   ]
  },
  {
   "cell_type": "markdown",
   "metadata": {},
   "source": [
    "# Write a Python program using function concept that maps  list of words into a list of integers representing the lengths of the corresponding words. \n",
    " \n",
    "Hint: If a list [ ab,cde,erty] is passed on to the python function output should come as [2,3,4] \n",
    " \n",
    "Here 2,3 and 4 are the lengths of the words in the list. \n"
   ]
  },
  {
   "cell_type": "code",
   "execution_count": 20,
   "metadata": {},
   "outputs": [
    {
     "name": "stdout",
     "output_type": "stream",
     "text": [
      "word lengths in array => [4, 2, 1, 5, 4]\n"
     ]
    }
   ],
   "source": [
    "wordlist = [\"This\", \"is\", \"a\", \"worst\", \"year\"]\n",
    "\n",
    "def wordlength(wordlist):\n",
    " return list(map(lambda x: len(x), wordlist))\n",
    "\n",
    "print (\"word lengths in array => \" + str(wordlength(wordlist)))"
   ]
  },
  {
   "cell_type": "markdown",
   "metadata": {},
   "source": [
    "## Write a Python function which takes a character (i.e. a string of length 1) and returns True if it is a vowel, False otherwise. \n",
    " \n"
   ]
  },
  {
   "cell_type": "code",
   "execution_count": 29,
   "metadata": {},
   "outputs": [
    {
     "name": "stdout",
     "output_type": "stream",
     "text": [
      "False\n",
      "True\n"
     ]
    }
   ],
   "source": [
    "def is_vowel(char):\n",
    "    all_vowels = 'aeiou'\n",
    "    return char in all_vowels\n",
    "print(is_vowel('c'))\n",
    "print(is_vowel('e'))"
   ]
  },
  {
   "cell_type": "code",
   "execution_count": null,
   "metadata": {},
   "outputs": [],
   "source": []
  }
 ],
 "metadata": {
  "kernelspec": {
   "display_name": "Python 3",
   "language": "python",
   "name": "python3"
  },
  "language_info": {
   "codemirror_mode": {
    "name": "ipython",
    "version": 3
   },
   "file_extension": ".py",
   "mimetype": "text/x-python",
   "name": "python",
   "nbconvert_exporter": "python",
   "pygments_lexer": "ipython3",
   "version": "3.7.4"
  }
 },
 "nbformat": 4,
 "nbformat_minor": 4
}
